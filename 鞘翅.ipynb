{
 "metadata": {
  "language_info": {
   "codemirror_mode": {
    "name": "ipython",
    "version": 3
   },
   "file_extension": ".py",
   "mimetype": "text/x-python",
   "name": "python",
   "nbconvert_exporter": "python",
   "pygments_lexer": "ipython3",
   "version": "3.8.3-final"
  },
  "orig_nbformat": 2,
  "kernelspec": {
   "name": "python3",
   "display_name": "Python 3"
  }
 },
 "nbformat": 4,
 "nbformat_minor": 2,
 "cells": [
  {
   "cell_type": "code",
   "execution_count": 1,
   "metadata": {},
   "outputs": [],
   "source": [
    "import torch as t\n",
    "\n",
    "def tick(alpha, vx, vy):\n",
    "    lx = t.cos(alpha)\n",
    "    ly = t.sin(alpha)\n",
    "    speed_proj = vx\n",
    "    vy += 0.08 * (-1.0 + lx * lx * 0.75)\n",
    "    if vy < 0 and lx > 0:\n",
    "        d = vy * -0.1 * lx * lx\n",
    "        vx += d\n",
    "        vy += d\n",
    "    if ly > 0 and lx > 0:\n",
    "        d = speed_proj * ly * 0.04\n",
    "        vx -= d\n",
    "        vy += d * 3.2\n",
    "    if lx > 0:\n",
    "        vx += (speed_proj - vx) * 0.1\n",
    "    return vx * 0.9900000095367432, vy * 0.9800000190734863\n",
    "\n",
    "\n"
   ]
  },
  {
   "cell_type": "code",
   "execution_count": 36,
   "metadata": {
    "tags": []
   },
   "outputs": [],
   "source": [
    "\n",
    "import torch.nn as nn\n",
    "\n",
    "# Defining input size, hidden layer size, output size and batch size respectively\n",
    "n1_in, n1_h1, n1_h2 , n1_out, batch_size = 3, 10, 10, 1, 10\n",
    "\n",
    "actor = nn.Sequential(nn.Linear(n1_in, n1_h1),\n",
    "   nn.ReLU(),\n",
    "   nn.Linear(n1_h1, n1_h2),\n",
    "   nn.ReLU(),\n",
    "   nn.Linear(n1_h1, n1_h2),\n",
    "   nn.ReLU(),\n",
    "   nn.Linear(n1_h1, n1_h2),\n",
    "   nn.ReLU(),\n",
    "   nn.Linear(n1_h2, n1_out))\n",
    "\n",
    "n2_in, n2_h1, n2_h2 , n2_out = 4, 10, 10, 1\n",
    "critic = nn.Sequential(nn.Linear(n2_in, n2_h1),\n",
    "   nn.ReLU(),\n",
    "   nn.Linear(n2_h1, n2_h2),\n",
    "   nn.ReLU(),\n",
    "   nn.Linear(n2_h1, n2_h2),\n",
    "   nn.ReLU(),\n",
    "   nn.Linear(n2_h1, n2_h2),\n",
    "   nn.ReLU(),\n",
    "   nn.Linear(n2_h2, n2_out))\n",
    "\n",
    "class model(nn.Module):\n",
    "    def __init__(self):\n",
    "        super().__init__()\n",
    "        self.actor = actor\n",
    "        self.critic = critic\n",
    "\n",
    "    def forward(self, x):\n",
    "        output = self.actor(x)\n",
    "        output = self.critic(t.cat((output,x),1))\n",
    "        return output\n",
    "\n",
    "\n",
    "class MyLoss(nn.Module):\n",
    "    # 不要忘记继承Module\n",
    "    def __init__(self):\n",
    "        super(MyLoss, self).__init__()\n",
    "\n",
    "    def forward(self, output):\n",
    "        # 不要忘记返回scalar\n",
    "        return t.mean(-output)\n",
    "net = model()\n",
    "\n",
    "\n",
    "# Construct the loss function\n",
    "criterion1 = nn.MSELoss()\n",
    "criterion2 = MyLoss()\n",
    "# Construct the optimizer (Stochastic Gradient Descent in this case)\n",
    "optimizer1 = t.optim.SGD(critic.parameters(), lr = 0.01, weight_decay=0.01)\n",
    "optimizer2 = t.optim.SGD(net.parameters(), lr = 0.01)\n",
    "\n",
    "\n"
   ]
  },
  {
   "cell_type": "code",
   "execution_count": 3,
   "metadata": {},
   "outputs": [
    {
     "output_type": "execute_result",
     "data": {
      "text/plain": [
       "False"
      ]
     },
     "metadata": {},
     "execution_count": 3
    }
   ],
   "source": [
    "t.cuda.is_available()\n"
   ]
  },
  {
   "cell_type": "code",
   "execution_count": 43,
   "metadata": {
    "tags": [
     "outputPrepend"
    ]
   },
   "outputs": [
    {
     "output_type": "stream",
     "name": "stdout",
     "text": [
      "d_fn=<AddBackward0>)tensor([nan], grad_fn=<AddBackward0>)tensor([nan], grad_fn=<AddBackward0>)tensor([nan], grad_fn=<AddBackward0>)tensor([nan], grad_fn=<AddBackward0>)tensor([nan], grad_fn=<AddBackward0>)tensor([nan], grad_fn=<AddBackward0>)tensor([nan], grad_fn=<AddBackward0>)tensor([nan], grad_fn=<AddBackward0>)tensor([nan], grad_fn=<AddBackward0>)tensor([nan], grad_fn=<AddBackward0>)tensor([nan], grad_fn=<AddBackward0>)tensor([nan], grad_fn=<AddBackward0>)tensor([nan], grad_fn=<AddBackward0>)tensor([nan], grad_fn=<AddBackward0>)tensor([nan], grad_fn=<AddBackward0>)tensor([nan], grad_fn=<AddBackward0>)tensor([nan], grad_fn=<AddBackward0>)tensor([nan], grad_fn=<AddBackward0>)tensor([nan], grad_fn=<AddBackward0>)tensor([nan], grad_fn=<AddBackward0>)tensor([nan], grad_fn=<AddBackward0>)tensor([nan], grad_fn=<AddBackward0>)tensor([nan], grad_fn=<AddBackward0>)tensor([nan], grad_fn=<AddBackward0>)tensor([nan], grad_fn=<AddBackward0>)tensor([nan], grad_fn=<AddBackward0>)tensor([nan], grad_fn=<AddBackward0>)tensor([nan], grad_fn=<AddBackward0>)tensor([nan], grad_fn=<AddBackward0>)tensor([nan], grad_fn=<AddBackward0>)tensor([nan], grad_fn=<AddBackward0>)tensor([nan], grad_fn=<AddBackward0>)tensor([nan], grad_fn=<AddBackward0>)tensor([nan], grad_fn=<AddBackward0>)tensor([nan], grad_fn=<AddBackward0>)tensor([nan], grad_fn=<AddBackward0>)tensor([nan], grad_fn=<AddBackward0>)tensor([nan], grad_fn=<AddBackward0>)tensor([nan], grad_fn=<AddBackward0>)tensor([nan], grad_fn=<AddBackward0>)tensor([nan], grad_fn=<AddBackward0>)tensor([nan], grad_fn=<AddBackward0>)tensor([nan], grad_fn=<AddBackward0>)tensor([nan], grad_fn=<AddBackward0>)tensor([nan], grad_fn=<AddBackward0>)tensor([nan], grad_fn=<AddBackward0>)tensor([nan], grad_fn=<AddBackward0>)tensor([nan], grad_fn=<AddBackward0>)tensor([nan], grad_fn=<AddBackward0>)tensor([nan], grad_fn=<AddBackward0>)tensor([nan], grad_fn=<AddBackward0>)tensor([nan], grad_fn=<AddBackward0>)tensor([nan], grad_fn=<AddBackward0>)tensor([nan], grad_fn=<AddBackward0>)tensor([nan], grad_fn=<AddBackward0>)tensor([nan], grad_fn=<AddBackward0>)tensor([nan], grad_fn=<AddBackward0>)tensor([nan], grad_fn=<AddBackward0>)tensor([nan], grad_fn=<AddBackward0>)tensor([nan], grad_fn=<AddBackward0>)tensor([nan], grad_fn=<AddBackward0>)tensor([nan], grad_fn=<AddBackward0>)tensor([nan], grad_fn=<AddBackward0>)tensor([nan], grad_fn=<AddBackward0>)tensor([nan], grad_fn=<AddBackward0>)tensor([nan], grad_fn=<AddBackward0>)tensor([nan], grad_fn=<AddBackward0>)tensor([nan], grad_fn=<AddBackward0>)tensor([nan], grad_fn=<AddBackward0>)tensor([nan], grad_fn=<AddBackward0>)tensor([nan], grad_fn=<AddBackward0>)tensor([nan], grad_fn=<AddBackward0>)tensor([nan], grad_fn=<AddBackward0>)tensor([nan], grad_fn=<AddBackward0>)tensor([nan], grad_fn=<AddBackward0>)tensor([nan], grad_fn=<AddBackward0>)tensor([nan], grad_fn=<AddBackward0>)tensor([nan], grad_fn=<AddBackward0>)tensor([nan], grad_fn=<AddBackward0>)tensor([nan], grad_fn=<AddBackward0>)tensor([nan], grad_fn=<AddBackward0>)tensor([nan], grad_fn=<AddBackward0>)tensor([nan], grad_fn=<AddBackward0>)tensor([nan], grad_fn=<AddBackward0>)tensor([nan], grad_fn=<AddBackward0>)tensor([nan], grad_fn=<AddBackward0>)tensor([nan], grad_fn=<AddBackward0>)tensor([nan], grad_fn=<AddBackward0>)tensor([nan], grad_fn=<AddBackward0>)tensor([nan], grad_fn=<AddBackward0>)tensor([nan], grad_fn=<AddBackward0>)tensor([nan], grad_fn=<AddBackward0>)tensor([nan], grad_fn=<AddBackward0>)tensor([nan], grad_fn=<AddBackward0>)tensor([nan], grad_fn=<AddBackward0>)tensor([nan], grad_fn=<AddBackward0>)tensor([nan], grad_fn=<AddBackward0>)tensor([nan], grad_fn=<AddBackward0>)tensor([nan], grad_fn=<AddBackward0>)tensor([nan], grad_fn=<AddBackward0>)tensor([nan], grad_fn=<AddBackward0>)tensor([nan], grad_fn=<AddBackward0>)tensor([nan], grad_fn=<AddBackward0>)tensor([nan], grad_fn=<AddBackward0>)tensor([nan], grad_fn=<AddBackward0>)tensor([nan], grad_fn=<AddBackward0>)tensor([nan], grad_fn=<AddBackward0>)tensor([nan], grad_fn=<AddBackward0>)tensor([nan], grad_fn=<AddBackward0>)tensor([nan], grad_fn=<AddBackward0>)tensor([nan], grad_fn=<AddBackward0>)tensor([nan], grad_fn=<AddBackward0>)tensor([nan], grad_fn=<AddBackward0>)tensor([nan], grad_fn=<AddBackward0>)tensor([nan], grad_fn=<AddBackward0>)tensor([nan], grad_fn=<AddBackward0>)tensor([nan], grad_fn=<AddBackward0>)tensor([nan], grad_fn=<AddBackward0>)tensor([nan], grad_fn=<AddBackward0>)tensor([nan], grad_fn=<AddBackward0>)tensor([nan], grad_fn=<AddBackward0>)tensor([nan], grad_fn=<AddBackward0>)tensor([nan], grad_fn=<AddBackward0>)tensor([nan], grad_fn=<AddBackward0>)tensor([nan], grad_fn=<AddBackward0>)tensor([nan], grad_fn=<AddBackward0>)tensor([nan], grad_fn=<AddBackward0>)tensor([nan], grad_fn=<AddBackward0>)tensor([nan], grad_fn=<AddBackward0>)tensor([nan], grad_fn=<AddBackward0>)tensor([nan], grad_fn=<AddBackward0>)tensor([nan], grad_fn=<AddBackward0>)tensor([nan], grad_fn=<AddBackward0>)tensor([nan], grad_fn=<AddBackward0>)tensor([nan], grad_fn=<AddBackward0>)tensor([nan], grad_fn=<AddBackward0>)tensor([nan], grad_fn=<AddBackward0>)tensor([nan], grad_fn=<AddBackward0>)tensor([nan], grad_fn=<AddBackward0>)tensor([nan], grad_fn=<AddBackward0>)tensor([nan], grad_fn=<AddBackward0>)tensor([nan], grad_fn=<AddBackward0>)tensor([nan], grad_fn=<AddBackward0>)tensor([nan], grad_fn=<AddBackward0>)tensor([nan], grad_fn=<AddBackward0>)tensor([nan], grad_fn=<AddBackward0>)tensor([nan], grad_fn=<AddBackward0>)tensor([nan], grad_fn=<AddBackward0>)tensor([nan], grad_fn=<AddBackward0>)tensor([nan], grad_fn=<AddBackward0>)tensor([nan], grad_fn=<AddBackward0>)tensor([nan], grad_fn=<AddBackward0>)tensor([nan], grad_fn=<AddBackward0>)tensor([nan], grad_fn=<AddBackward0>)tensor([nan], grad_fn=<AddBackward0>)tensor([nan], grad_fn=<AddBackward0>)tensor([nan], grad_fn=<AddBackward0>)tensor([nan], grad_fn=<AddBackward0>)tensor([nan], grad_fn=<AddBackward0>)tensor([nan], grad_fn=<AddBackward0>)tensor([nan], grad_fn=<AddBackward0>)tensor([nan], grad_fn=<AddBackward0>)tensor([nan], grad_fn=<AddBackward0>)tensor([nan], grad_fn=<AddBackward0>)tensor([nan], grad_fn=<AddBackward0>)tensor([nan], grad_fn=<AddBackward0>)tensor([nan], grad_fn=<AddBackward0>)tensor([nan], grad_fn=<AddBackward0>)tensor([nan], grad_fn=<AddBackward0>)tensor([nan], grad_fn=<AddBackward0>)tensor([nan], grad_fn=<AddBackward0>)tensor([nan], grad_fn=<AddBackward0>)tensor([nan], grad_fn=<AddBackward0>)tensor([nan], grad_fn=<AddBackward0>)tensor([nan], grad_fn=<AddBackward0>)tensor([nan], grad_fn=<AddBackward0>)tensor([nan], grad_fn=<AddBackward0>)tensor([nan], grad_fn=<AddBackward0>)tensor([nan], grad_fn=<AddBackward0>)tensor([nan], grad_fn=<AddBackward0>)tensor([nan], grad_fn=<AddBackward0>)tensor([nan], grad_fn=<AddBackward0>)tensor([nan], grad_fn=<AddBackward0>)tensor([nan], grad_fn=<AddBackward0>)tensor([nan], grad_fn=<AddBackward0>)tensor([nan], grad_fn=<AddBackward0>)tensor([nan], grad_fn=<AddBackward0>)tensor([nan], grad_fn=<AddBackward0>)tensor([nan], grad_fn=<AddBackward0>)tensor([nan], grad_fn=<AddBackward0>)tensor([nan], grad_fn=<AddBackward0>)tensor([nan], grad_fn=<AddBackward0>)tensor([nan], grad_fn=<AddBackward0>)tensor([nan], grad_fn=<AddBackward0>)tensor([nan], grad_fn=<AddBackward0>)tensor([nan], grad_fn=<AddBackward0>)tensor([nan], grad_fn=<AddBackward0>)tensor([nan], grad_fn=<AddBackward0>)tensor([nan], grad_fn=<AddBackward0>)tensor([nan], grad_fn=<AddBackward0>)tensor([nan], grad_fn=<AddBackward0>)tensor([nan], grad_fn=<AddBackward0>)tensor([nan], grad_fn=<AddBackward0>)tensor([nan], grad_fn=<AddBackward0>)tensor([nan], grad_fn=<AddBackward0>)tensor([nan], grad_fn=<AddBackward0>)tensor([nan], grad_fn=<AddBackward0>)tensor([nan], grad_fn=<AddBackward0>)tensor([nan], grad_fn=<AddBackward0>)tensor([nan], grad_fn=<AddBackward0>)tensor([nan], grad_fn=<AddBackward0>)tensor([nan], grad_fn=<AddBackward0>)tensor([nan], grad_fn=<AddBackward0>)tensor([nan], grad_fn=<AddBackward0>)tensor([nan], grad_fn=<AddBackward0>)tensor([nan], grad_fn=<AddBackward0>)tensor([nan], grad_fn=<AddBackward0>)tensor([nan], grad_fn=<AddBackward0>)tensor([nan], grad_fn=<AddBackward0>)tensor([nan], grad_fn=<AddBackward0>)tensor([nan], grad_fn=<AddBackward0>)tensor([nan], grad_fn=<AddBackward0>)tensor([nan], grad_fn=<AddBackward0>)tensor([nan], grad_fn=<AddBackward0>)tensor([nan], grad_fn=<AddBackward0>)tensor([nan], grad_fn=<AddBackward0>)tensor([nan], grad_fn=<AddBackward0>)tensor([nan], grad_fn=<AddBackward0>)tensor([nan], grad_fn=<AddBackward0>)tensor([nan], grad_fn=<AddBackward0>)tensor([nan], grad_fn=<AddBackward0>)tensor([nan], grad_fn=<AddBackward0>)tensor([nan], grad_fn=<AddBackward0>)tensor([nan], grad_fn=<AddBackward0>)tensor([nan], grad_fn=<AddBackward0>)tensor([nan], grad_fn=<AddBackward0>)tensor([nan], grad_fn=<AddBackward0>)tensor([nan], grad_fn=<AddBackward0>)tensor([nan], grad_fn=<AddBackward0>)tensor([nan], grad_fn=<AddBackward0>)tensor([nan], grad_fn=<AddBackward0>)tensor([nan], grad_fn=<AddBackward0>)tensor([nan], grad_fn=<AddBackward0>)tensor([nan], grad_fn=<AddBackward0>)tensor([nan], grad_fn=<AddBackward0>)tensor([nan], grad_fn=<AddBackward0>)tensor([nan], grad_fn=<AddBackward0>)tensor([nan], grad_fn=<AddBackward0>)tensor([nan], grad_fn=<AddBackward0>)tensor([nan], grad_fn=<AddBackward0>)tensor([nan], grad_fn=<AddBackward0>)tensor([nan], grad_fn=<AddBackward0>)tensor([nan], grad_fn=<AddBackward0>)tensor([nan], grad_fn=<AddBackward0>)tensor([nan], grad_fn=<AddBackward0>)tensor([nan], grad_fn=<AddBackward0>)tensor([nan], grad_fn=<AddBackward0>)tensor([nan], grad_fn=<AddBackward0>)tensor([nan], grad_fn=<AddBackward0>)tensor([nan], grad_fn=<AddBackward0>)tensor([nan], grad_fn=<AddBackward0>)tensor([nan], grad_fn=<AddBackward0>)tensor([nan], grad_fn=<AddBackward0>)tensor([nan], grad_fn=<AddBackward0>)tensor([nan], grad_fn=<AddBackward0>)tensor([nan], grad_fn=<AddBackward0>)tensor([nan], grad_fn=<AddBackward0>)tensor([nan], grad_fn=<AddBackward0>)tensor([nan], grad_fn=<AddBackward0>)tensor([nan], grad_fn=<AddBackward0>)tensor([nan], grad_fn=<AddBackward0>)tensor([nan], grad_fn=<AddBackward0>)tensor([nan], grad_fn=<AddBackward0>)tensor([nan], grad_fn=<AddBackward0>)tensor([nan], grad_fn=<AddBackward0>)tensor([nan], grad_fn=<AddBackward0>)tensor([nan], grad_fn=<AddBackward0>)tensor([nan], grad_fn=<AddBackward0>)tensor([nan], grad_fn=<AddBackward0>)tensor([nan], grad_fn=<AddBackward0>)tensor([nan], grad_fn=<AddBackward0>)tensor([nan], grad_fn=<AddBackward0>)tensor([nan], grad_fn=<AddBackward0>)tensor([nan], grad_fn=<AddBackward0>)tensor([nan], grad_fn=<AddBackward0>)tensor([nan], grad_fn=<AddBackward0>)tensor([nan], grad_fn=<AddBackward0>)tensor([nan], grad_fn=<AddBackward0>)tensor([nan], grad_fn=<AddBackward0>)tensor([nan], grad_fn=<AddBackward0>)tensor([nan], grad_fn=<AddBackward0>)tensor([nan], grad_fn=<AddBackward0>)tensor([nan], grad_fn=<AddBackward0>)tensor([nan], grad_fn=<AddBackward0>)tensor([nan], grad_fn=<AddBackward0>)tensor([nan], grad_fn=<AddBackward0>)tensor([nan], grad_fn=<AddBackward0>)tensor([nan], grad_fn=<AddBackward0>)tensor([nan], grad_fn=<AddBackward0>)tensor([nan], grad_fn=<AddBackward0>)tensor([nan], grad_fn=<AddBackward0>)tensor([nan], grad_fn=<AddBackward0>)tensor([nan], grad_fn=<AddBackward0>)tensor([nan], grad_fn=<AddBackward0>)tensor([nan], grad_fn=<AddBackward0>)tensor([nan], grad_fn=<AddBackward0>)tensor([nan], grad_fn=<AddBackward0>)tensor([nan], grad_fn=<AddBackward0>)tensor([nan], grad_fn=<AddBackward0>)tensor([nan], grad_fn=<AddBackward0>)tensor([nan], grad_fn=<AddBackward0>)tensor([nan], grad_fn=<AddBackward0>)tensor([nan], grad_fn=<AddBackward0>)tensor([nan], grad_fn=<AddBackward0>)tensor([nan], grad_fn=<AddBackward0>)tensor([nan], grad_fn=<AddBackward0>)tensor([nan], grad_fn=<AddBackward0>)tensor([nan], grad_fn=<AddBackward0>)tensor([nan], grad_fn=<AddBackward0>)tensor([nan], grad_fn=<AddBackward0>)tensor([nan], grad_fn=<AddBackward0>)tensor([nan], grad_fn=<AddBackward0>)tensor([nan], grad_fn=<AddBackward0>)tensor([nan], grad_fn=<AddBackward0>)tensor([nan], grad_fn=<AddBackward0>)tensor([nan], grad_fn=<AddBackward0>)tensor([nan], grad_fn=<AddBackward0>)tensor([nan], grad_fn=<AddBackward0>)tensor([nan], grad_fn=<AddBackward0>)tensor([nan], grad_fn=<AddBackward0>)tensor([nan], grad_fn=<AddBackward0>)tensor([nan], grad_fn=<AddBackward0>)tensor([nan], grad_fn=<AddBackward0>)tensor([nan], grad_fn=<AddBackward0>)tensor([nan], grad_fn=<AddBackward0>)tensor([nan], grad_fn=<AddBackward0>)tensor([nan], grad_fn=<AddBackward0>)tensor([nan], grad_fn=<AddBackward0>)tensor([nan], grad_fn=<AddBackward0>)tensor([nan], grad_fn=<AddBackward0>)tensor([nan], grad_fn=<AddBackward0>)tensor([nan], grad_fn=<AddBackward0>)tensor([nan], grad_fn=<AddBackward0>)tensor([nan], grad_fn=<AddBackward0>)tensor([nan], grad_fn=<AddBackward0>)tensor([nan], grad_fn=<AddBackward0>)tensor([nan], grad_fn=<AddBackward0>)tensor([nan], grad_fn=<AddBackward0>)tensor([nan], grad_fn=<AddBackward0>)tensor([nan], grad_fn=<AddBackward0>)tensor([nan], grad_fn=<AddBackward0>)tensor([nan], grad_fn=<AddBackward0>)tensor([nan], grad_fn=<AddBackward0>)tensor([nan], grad_fn=<AddBackward0>)tensor([nan], grad_fn=<AddBackward0>)tensor([nan], grad_fn=<AddBackward0>)tensor([nan], grad_fn=<AddBackward0>)tensor([nan], grad_fn=<AddBackward0>)tensor([nan], grad_fn=<AddBackward0>)tensor([nan], grad_fn=<AddBackward0>)tensor([nan], grad_fn=<AddBackward0>)tensor([nan], grad_fn=<AddBackward0>)tensor([nan], grad_fn=<AddBackward0>)tensor([nan], grad_fn=<AddBackward0>)tensor([nan], grad_fn=<AddBackward0>)tensor([nan], grad_fn=<AddBackward0>)tensor([nan], grad_fn=<AddBackward0>)tensor([nan], grad_fn=<AddBackward0>)tensor([nan], grad_fn=<AddBackward0>)tensor([nan], grad_fn=<AddBackward0>)tensor([nan], grad_fn=<AddBackward0>)tensor([nan], grad_fn=<AddBackward0>)tensor([nan], grad_fn=<AddBackward0>)tensor([nan], grad_fn=<AddBackward0>)tensor([nan], grad_fn=<AddBackward0>)tensor([nan], grad_fn=<AddBackward0>)tensor([nan], grad_fn=<AddBackward0>)tensor([nan], grad_fn=<AddBackward0>)tensor([nan], grad_fn=<AddBackward0>)tensor([nan], grad_fn=<AddBackward0>)tensor([nan], grad_fn=<AddBackward0>)tensor([nan], grad_fn=<AddBackward0>)tensor([nan], grad_fn=<AddBackward0>)tensor([nan], grad_fn=<AddBackward0>)tensor([nan], grad_fn=<AddBackward0>)tensor([nan], grad_fn=<AddBackward0>)tensor([nan], grad_fn=<AddBackward0>)tensor([nan], grad_fn=<AddBackward0>)tensor([nan], grad_fn=<AddBackward0>)tensor([nan], grad_fn=<AddBackward0>)tensor([nan], grad_fn=<AddBackward0>)tensor([nan], grad_fn=<AddBackward0>)tensor([nan], grad_fn=<AddBackward0>)tensor([nan], grad_fn=<AddBackward0>)tensor([nan], grad_fn=<AddBackward0>)tensor([nan], grad_fn=<AddBackward0>)tensor([nan], grad_fn=<AddBackward0>)tensor([nan], grad_fn=<AddBackward0>)tensor([nan], grad_fn=<AddBackward0>)tensor([nan], grad_fn=<AddBackward0>)tensor([nan], grad_fn=<AddBackward0>)tensor([nan], grad_fn=<AddBackward0>)tensor([nan], grad_fn=<AddBackward0>)tensor([nan], grad_fn=<AddBackward0>)tensor([nan], grad_fn=<AddBackward0>)tensor([nan], grad_fn=<AddBackward0>)tensor([nan], grad_fn=<AddBackward0>)tensor([nan], grad_fn=<AddBackward0>)tensor([nan], grad_fn=<AddBackward0>)tensor([nan], grad_fn=<AddBackward0>)tensor([nan], grad_fn=<AddBackward0>)tensor([nan], grad_fn=<AddBackward0>)tensor([nan], grad_fn=<AddBackward0>)tensor([nan], grad_fn=<AddBackward0>)tensor([nan], grad_fn=<AddBackward0>)tensor([nan], grad_fn=<AddBackward0>)tensor([nan], grad_fn=<AddBackward0>)tensor([nan], grad_fn=<AddBackward0>)tensor([nan], grad_fn=<AddBackward0>)tensor([nan], grad_fn=<AddBackward0>)tensor([nan], grad_fn=<AddBackward0>)tensor([nan], grad_fn=<AddBackward0>)tensor([nan], grad_fn=<AddBackward0>)tensor([nan], grad_fn=<AddBackward0>)tensor([nan], grad_fn=<AddBackward0>)tensor([nan], grad_fn=<AddBackward0>)tensor([nan], grad_fn=<AddBackward0>)tensor([nan], grad_fn=<AddBackward0>)tensor([nan], grad_fn=<AddBackward0>)tensor([nan], grad_fn=<AddBackward0>)tensor([nan], grad_fn=<AddBackward0>)tensor([nan], grad_fn=<AddBackward0>)tensor([nan], grad_fn=<AddBackward0>)tensor([nan], grad_fn=<AddBackward0>)tensor([nan], grad_fn=<AddBackward0>)tensor([nan], grad_fn=<AddBackward0>)tensor([nan], grad_fn=<AddBackward0>)tensor([nan], grad_fn=<AddBackward0>)tensor([nan], grad_fn=<AddBackward0>)tensor([nan], grad_fn=<AddBackward0>)tensor([nan], grad_fn=<AddBackward0>)tensor([nan], grad_fn=<AddBackward0>)tensor([nan], grad_fn=<AddBackward0>)tensor([nan], grad_fn=<AddBackward0>)tensor([nan], grad_fn=<AddBackward0>)tensor([nan], grad_fn=<AddBackward0>)tensor([nan], grad_fn=<AddBackward0>)tensor([nan], grad_fn=<AddBackward0>)tensor([nan], grad_fn=<AddBackward0>)tensor([nan], grad_fn=<AddBackward0>)tensor([nan], grad_fn=<AddBackward0>)tensor([nan], grad_fn=<AddBackward0>)tensor([nan], grad_fn=<AddBackward0>)tensor([nan], grad_fn=<AddBackward0>)tensor([nan], grad_fn=<AddBackward0>)tensor([nan], grad_fn=<AddBackward0>)tensor([nan], grad_fn=<AddBackward0>)tensor([nan], grad_fn=<AddBackward0>)tensor([nan], grad_fn=<AddBackward0>)tensor([nan], grad_fn=<AddBackward0>)tensor([nan], grad_fn=<AddBackward0>)tensor([nan], grad_fn=<AddBackward0>)tensor([nan], grad_fn=<AddBackward0>)tensor([nan], grad_fn=<AddBackward0>)tensor([nan], grad_fn=<AddBackward0>)tensor([nan], grad_fn=<AddBackward0>)tensor([nan], grad_fn=<AddBackward0>)tensor([nan], grad_fn=<AddBackward0>)tensor([nan], grad_fn=<AddBackward0>)tensor([nan], grad_fn=<AddBackward0>)tensor([nan], grad_fn=<AddBackward0>)tensor([nan], grad_fn=<AddBackward0>)tensor([nan], grad_fn=<AddBackward0>)tensor([nan], grad_fn=<AddBackward0>)tensor([nan], grad_fn=<AddBackward0>)tensor([nan], grad_fn=<AddBackward0>)tensor([nan], grad_fn=<AddBackward0>)tensor([nan], grad_fn=<AddBackward0>)tensor([nan], grad_fn=<AddBackward0>)tensor([nan], grad_fn=<AddBackward0>)tensor([nan], grad_fn=<AddBackward0>)tensor([nan], grad_fn=<AddBackward0>)tensor([nan], grad_fn=<AddBackward0>)tensor([nan], grad_fn=<AddBackward0>)tensor([nan], grad_fn=<AddBackward0>)tensor([nan], grad_fn=<AddBackward0>)tensor([nan], grad_fn=<AddBackward0>)tensor([nan], grad_fn=<AddBackward0>)tensor([nan], grad_fn=<AddBackward0>)tensor([nan], grad_fn=<AddBackward0>)tensor([nan], grad_fn=<AddBackward0>)tensor([nan], grad_fn=<AddBackward0>)tensor([nan], grad_fn=<AddBackward0>)tensor([nan], grad_fn=<AddBackward0>)tensor([nan], grad_fn=<AddBackward0>)tensor([nan], grad_fn=<AddBackward0>)tensor([nan], grad_fn=<AddBackward0>)tensor([nan], grad_fn=<AddBackward0>)tensor([nan], grad_fn=<AddBackward0>)tensor([nan], grad_fn=<AddBackward0>)tensor([nan], grad_fn=<AddBackward0>)tensor([nan], grad_fn=<AddBackward0>)tensor([nan], grad_fn=<AddBackward0>)tensor([nan], grad_fn=<AddBackward0>)tensor([nan], grad_fn=<AddBackward0>)tensor([nan], grad_fn=<AddBackward0>)tensor([nan], grad_fn=<AddBackward0>)tensor([nan], grad_fn=<AddBackward0>)tensor([nan], grad_fn=<AddBackward0>)tensor([nan], grad_fn=<AddBackward0>)tensor([nan], grad_fn=<AddBackward0>)tensor([nan], grad_fn=<AddBackward0>)tensor([nan], grad_fn=<AddBackward0>)tensor([nan], grad_fn=<AddBackward0>)tensor([nan], grad_fn=<AddBackward0>)tensor([nan], grad_fn=<AddBackward0>)tensor([nan], grad_fn=<AddBackward0>)tensor([nan], grad_fn=<AddBackward0>)tensor([nan], grad_fn=<AddBackward0>)tensor([nan], grad_fn=<AddBackward0>)tensor([nan], grad_fn=<AddBackward0>)tensor([nan], grad_fn=<AddBackward0>)tensor([nan], grad_fn=<AddBackward0>)tensor([nan], grad_fn=<AddBackward0>)tensor([nan], grad_fn=<AddBackward0>)tensor([nan], grad_fn=<AddBackward0>)tensor([nan], grad_fn=<AddBackward0>)tensor([nan], grad_fn=<AddBackward0>)tensor([nan], grad_fn=<AddBackward0>)tensor([nan], grad_fn=<AddBackward0>)tensor([nan], grad_fn=<AddBackward0>)tensor([nan], grad_fn=<AddBackward0>)tensor([nan], grad_fn=<AddBackward0>)tensor([nan], grad_fn=<AddBackward0>)tensor([nan], grad_fn=<AddBackward0>)tensor([nan], grad_fn=<AddBackward0>)tensor([nan], grad_fn=<AddBackward0>)tensor([nan], grad_fn=<AddBackward0>)tensor([nan], grad_fn=<AddBackward0>)tensor([nan], grad_fn=<AddBackward0>)"
     ]
    },
    {
     "output_type": "error",
     "ename": "KeyboardInterrupt",
     "evalue": "",
     "traceback": [
      "\u001b[1;31m---------------------------------------------------------------------------\u001b[0m",
      "\u001b[1;31mKeyboardInterrupt\u001b[0m                         Traceback (most recent call last)",
      "\u001b[1;32m<ipython-input-43-3b417e2e17b0>\u001b[0m in \u001b[0;36m<module>\u001b[1;34m\u001b[0m\n\u001b[0;32m     19\u001b[0m         \u001b[0mprint\u001b[0m\u001b[1;33m(\u001b[0m\u001b[0malpha\u001b[0m\u001b[1;33m,\u001b[0m\u001b[0mend\u001b[0m\u001b[1;33m=\u001b[0m\u001b[1;34m\"\"\u001b[0m\u001b[1;33m)\u001b[0m\u001b[1;33m\u001b[0m\u001b[1;33m\u001b[0m\u001b[0m\n\u001b[0;32m     20\u001b[0m \u001b[1;33m\u001b[0m\u001b[0m\n\u001b[1;32m---> 21\u001b[1;33m         \u001b[1;32mif\u001b[0m \u001b[0malpha\u001b[0m\u001b[1;33m>\u001b[0m\u001b[1;36m3.1415\u001b[0m\u001b[1;33m/\u001b[0m\u001b[1;36m2\u001b[0m \u001b[1;32mor\u001b[0m \u001b[0malpha\u001b[0m\u001b[1;33m<\u001b[0m\u001b[1;33m-\u001b[0m\u001b[1;36m3.1415\u001b[0m\u001b[1;33m/\u001b[0m\u001b[1;36m2\u001b[0m \u001b[1;32mor\u001b[0m \u001b[0mt\u001b[0m\u001b[1;33m.\u001b[0m\u001b[0misnan\u001b[0m\u001b[1;33m(\u001b[0m\u001b[0malpha\u001b[0m\u001b[1;33m[\u001b[0m\u001b[1;36m0\u001b[0m\u001b[1;33m]\u001b[0m\u001b[1;33m)\u001b[0m\u001b[1;33m:\u001b[0m\u001b[1;33m\u001b[0m\u001b[1;33m\u001b[0m\u001b[0m\n\u001b[0m\u001b[0;32m     22\u001b[0m             \u001b[0malpha\u001b[0m \u001b[1;33m=\u001b[0m \u001b[0mt\u001b[0m\u001b[1;33m.\u001b[0m\u001b[0mtensor\u001b[0m\u001b[1;33m(\u001b[0m\u001b[1;33m[\u001b[0m\u001b[1;36m0.0\u001b[0m\u001b[1;33m]\u001b[0m\u001b[1;33m)\u001b[0m\u001b[1;33m\u001b[0m\u001b[1;33m\u001b[0m\u001b[0m\n\u001b[0;32m     23\u001b[0m         \u001b[0mvx\u001b[0m\u001b[1;33m,\u001b[0m \u001b[0mvy\u001b[0m \u001b[1;33m=\u001b[0m \u001b[0mtick\u001b[0m\u001b[1;33m(\u001b[0m\u001b[0mt\u001b[0m\u001b[1;33m.\u001b[0m\u001b[0mtensor\u001b[0m\u001b[1;33m(\u001b[0m\u001b[0malpha\u001b[0m\u001b[1;33m)\u001b[0m\u001b[1;33m,\u001b[0m\u001b[0mvx\u001b[0m\u001b[1;33m,\u001b[0m\u001b[0mvy\u001b[0m\u001b[1;33m)\u001b[0m\u001b[1;33m\u001b[0m\u001b[1;33m\u001b[0m\u001b[0m\n",
      "\u001b[1;31mKeyboardInterrupt\u001b[0m: "
     ]
    }
   ],
   "source": [
    "R = []\n",
    "for i_episode in range(2000):\n",
    "    sa = []\n",
    "    r = []\n",
    "    Hlist = []\n",
    "    # H = t.rand(1)*200+10\n",
    "    H = t.tensor([300.0])\n",
    "    H_ = (H).tolist()[0]\n",
    "    IniInputlist = []\n",
    "    X = 0\n",
    "    lastX = 0\n",
    "    vx = t.tensor([0.0])\n",
    "    vy = t.tensor([0.0])\n",
    "    while H>0:\n",
    "        IniInpu = t.cat((H,vx,vy),0)\n",
    "        action = actor(IniInpu)\n",
    "        IniInputlist.append(IniInpu.tolist())\n",
    "        alpha = action\n",
    "        print(alpha,end=\"\")\n",
    "        \n",
    "        if alpha>3.1415/2 or alpha<-3.1415/2 or t.isnan(alpha[0]):\n",
    "            alpha = t.tensor([0.0])\n",
    "        vx, vy = tick(alpha,vx,vy)\n",
    "        # print(H,alpha,vx,vy,end=\"\")\n",
    "        # print(H)\n",
    "        H = H + vy\n",
    "        X = X + vx\n",
    "        \n",
    "        action = alpha.tolist()\n",
    "        action= action + IniInpu.tolist()\n",
    "        # print(action)\n",
    "        sa.append(action)\n",
    "        r.append([lastX])\n",
    "        lastX = X\n",
    "    print(\"行进\",vx,\"高度\",H,end=\"\")\n",
    "    for oner in r:\n",
    "        oner[0] = X - oner[0]\n",
    "    R.append(X/H_)\n",
    "    sa = t.tensor(sa)\n",
    "    r = t.tensor(r)\n",
    "    print(sa.shape,r.shape)\n",
    "    # Gradient Descent\n",
    "    for epoch in range(20):\n",
    "\n",
    "        for i in range(5):\n",
    "            \n",
    "            y_pred = critic(sa)\n",
    "            loss1 = criterion1(y_pred,r)\n",
    "            optimizer1.zero_grad()\n",
    "            loss1.backward()\n",
    "            optimizer1.step()\n",
    "        \n",
    "        # Forward pass: Compute predicted y by passing x to the model\n",
    "        y_pred = net(t.tensor(IniInputlist))\n",
    "\n",
    "        # Compute and print loss\n",
    "        loss2 = criterion2(y_pred)\n",
    "        if epoch%5==0:\n",
    "            print('i_episode: ',i_episode, 'epoch: ', epoch,' loss1: ', loss1.tolist(),' loss2: ', loss2.tolist())\n",
    "\n",
    "        # Zero gradients, perform a backward pass, and update the weights.\n",
    "        optimizer2.zero_grad()\n",
    "\n",
    "        # perform a backward pass (backpropagation)\n",
    "        loss2.backward()\n",
    "\n",
    "        # Update the parameters\n",
    "        optimizer2.step()\n",
    "\n",
    "import matplotlib.pyplot as plt\n",
    "\n",
    "plt.plot(R)"
   ]
  },
  {
   "cell_type": "code",
   "execution_count": null,
   "metadata": {},
   "outputs": [],
   "source": []
  }
 ]
}